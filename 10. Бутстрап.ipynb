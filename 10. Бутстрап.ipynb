{
 "cells": [
  {
   "cell_type": "code",
   "execution_count": 1,
   "metadata": {},
   "outputs": [],
   "source": [
    "import numpy as np\n",
    "import pandas as pd\n",
    "import scipy.stats as stats\n",
    "\n",
    "from matplotlib import pyplot as plt\n",
    "import seaborn as sns\n",
    "\n",
    "from tqdm import tqdm\n",
    "\n",
    "from scipy.stats import norm, expon, gamma, chi2, chisquare, chi2_contingency, \\\n",
    "    randint, kstest, poisson, binom, mannwhitneyu\n",
    "from statsmodels.stats.proportion import proportion_confint  \n",
    "\n",
    "sns.set()"
   ]
  },
  {
   "cell_type": "markdown",
   "metadata": {},
   "source": [
    "Бутстрап - метод, который позволяет построить критерий для любой сколько угодно сложной гипотезы, ценой довольно долгих вычислений"
   ]
  },
  {
   "cell_type": "code",
   "execution_count": 2,
   "metadata": {},
   "outputs": [
    {
     "data": {
      "text/html": [
       "<div>\n",
       "<style scoped>\n",
       "    .dataframe tbody tr th:only-of-type {\n",
       "        vertical-align: middle;\n",
       "    }\n",
       "\n",
       "    .dataframe tbody tr th {\n",
       "        vertical-align: top;\n",
       "    }\n",
       "\n",
       "    .dataframe thead th {\n",
       "        text-align: right;\n",
       "    }\n",
       "</style>\n",
       "<table border=\"1\" class=\"dataframe\">\n",
       "  <thead>\n",
       "    <tr style=\"text-align: right;\">\n",
       "      <th></th>\n",
       "      <th>Date</th>\n",
       "      <th>Open</th>\n",
       "      <th>High</th>\n",
       "      <th>Low</th>\n",
       "      <th>Close</th>\n",
       "      <th>Adj Close</th>\n",
       "      <th>Volume</th>\n",
       "    </tr>\n",
       "  </thead>\n",
       "  <tbody>\n",
       "    <tr>\n",
       "      <th>0</th>\n",
       "      <td>1972-08-25</td>\n",
       "      <td>0.021159</td>\n",
       "      <td>0.021566</td>\n",
       "      <td>0.021159</td>\n",
       "      <td>0.021484</td>\n",
       "      <td>0.011664</td>\n",
       "      <td>7526400</td>\n",
       "    </tr>\n",
       "    <tr>\n",
       "      <th>1</th>\n",
       "      <td>1972-08-28</td>\n",
       "      <td>0.021484</td>\n",
       "      <td>0.021647</td>\n",
       "      <td>0.021403</td>\n",
       "      <td>0.021403</td>\n",
       "      <td>0.011620</td>\n",
       "      <td>2918400</td>\n",
       "    </tr>\n",
       "    <tr>\n",
       "      <th>2</th>\n",
       "      <td>1972-08-29</td>\n",
       "      <td>0.021322</td>\n",
       "      <td>0.021322</td>\n",
       "      <td>0.021159</td>\n",
       "      <td>0.021159</td>\n",
       "      <td>0.011488</td>\n",
       "      <td>5836800</td>\n",
       "    </tr>\n",
       "    <tr>\n",
       "      <th>3</th>\n",
       "      <td>1972-08-30</td>\n",
       "      <td>0.021159</td>\n",
       "      <td>0.021159</td>\n",
       "      <td>0.020996</td>\n",
       "      <td>0.021159</td>\n",
       "      <td>0.011488</td>\n",
       "      <td>1228800</td>\n",
       "    </tr>\n",
       "    <tr>\n",
       "      <th>4</th>\n",
       "      <td>1972-08-31</td>\n",
       "      <td>0.020996</td>\n",
       "      <td>0.020996</td>\n",
       "      <td>0.020833</td>\n",
       "      <td>0.020833</td>\n",
       "      <td>0.011311</td>\n",
       "      <td>2611200</td>\n",
       "    </tr>\n",
       "  </tbody>\n",
       "</table>\n",
       "</div>"
      ],
      "text/plain": [
       "         Date      Open      High       Low     Close  Adj Close   Volume\n",
       "0  1972-08-25  0.021159  0.021566  0.021159  0.021484   0.011664  7526400\n",
       "1  1972-08-28  0.021484  0.021647  0.021403  0.021403   0.011620  2918400\n",
       "2  1972-08-29  0.021322  0.021322  0.021159  0.021159   0.011488  5836800\n",
       "3  1972-08-30  0.021159  0.021159  0.020996  0.021159   0.011488  1228800\n",
       "4  1972-08-31  0.020996  0.020996  0.020833  0.020833   0.011311  2611200"
      ]
     },
     "execution_count": 2,
     "metadata": {},
     "output_type": "execute_result"
    }
   ],
   "source": [
    "data = pd.read_csv('wmt_data.csv')\n",
    "data.head()"
   ]
  },
  {
   "cell_type": "code",
   "execution_count": 3,
   "metadata": {},
   "outputs": [
    {
     "data": {
      "text/html": [
       "<div>\n",
       "<style scoped>\n",
       "    .dataframe tbody tr th:only-of-type {\n",
       "        vertical-align: middle;\n",
       "    }\n",
       "\n",
       "    .dataframe tbody tr th {\n",
       "        vertical-align: top;\n",
       "    }\n",
       "\n",
       "    .dataframe thead th {\n",
       "        text-align: right;\n",
       "    }\n",
       "</style>\n",
       "<table border=\"1\" class=\"dataframe\">\n",
       "  <thead>\n",
       "    <tr style=\"text-align: right;\">\n",
       "      <th></th>\n",
       "      <th>Open</th>\n",
       "      <th>High</th>\n",
       "      <th>Low</th>\n",
       "      <th>Close</th>\n",
       "      <th>Adj Close</th>\n",
       "      <th>Volume</th>\n",
       "    </tr>\n",
       "  </thead>\n",
       "  <tbody>\n",
       "    <tr>\n",
       "      <th>count</th>\n",
       "      <td>13145.000000</td>\n",
       "      <td>13145.000000</td>\n",
       "      <td>13145.000000</td>\n",
       "      <td>13145.000000</td>\n",
       "      <td>13145.000000</td>\n",
       "      <td>1.314500e+04</td>\n",
       "    </tr>\n",
       "    <tr>\n",
       "      <th>mean</th>\n",
       "      <td>13.913759</td>\n",
       "      <td>14.039233</td>\n",
       "      <td>13.789989</td>\n",
       "      <td>13.916968</td>\n",
       "      <td>11.440069</td>\n",
       "      <td>2.248237e+07</td>\n",
       "    </tr>\n",
       "    <tr>\n",
       "      <th>std</th>\n",
       "      <td>15.292915</td>\n",
       "      <td>15.411965</td>\n",
       "      <td>15.178640</td>\n",
       "      <td>15.298209</td>\n",
       "      <td>14.545202</td>\n",
       "      <td>1.843446e+07</td>\n",
       "    </tr>\n",
       "    <tr>\n",
       "      <th>min</th>\n",
       "      <td>0.005208</td>\n",
       "      <td>0.005208</td>\n",
       "      <td>0.004801</td>\n",
       "      <td>0.005208</td>\n",
       "      <td>0.002845</td>\n",
       "      <td>0.000000e+00</td>\n",
       "    </tr>\n",
       "    <tr>\n",
       "      <th>25%</th>\n",
       "      <td>0.540365</td>\n",
       "      <td>0.544271</td>\n",
       "      <td>0.537760</td>\n",
       "      <td>0.540365</td>\n",
       "      <td>0.322560</td>\n",
       "      <td>1.190220e+07</td>\n",
       "    </tr>\n",
       "    <tr>\n",
       "      <th>50%</th>\n",
       "      <td>10.500000</td>\n",
       "      <td>10.687500</td>\n",
       "      <td>10.239583</td>\n",
       "      <td>10.489583</td>\n",
       "      <td>6.738105</td>\n",
       "      <td>1.880670e+07</td>\n",
       "    </tr>\n",
       "    <tr>\n",
       "      <th>75%</th>\n",
       "      <td>19.836666</td>\n",
       "      <td>20.041668</td>\n",
       "      <td>19.670000</td>\n",
       "      <td>19.870001</td>\n",
       "      <td>14.260414</td>\n",
       "      <td>2.810160e+07</td>\n",
       "    </tr>\n",
       "    <tr>\n",
       "      <th>max</th>\n",
       "      <td>81.040001</td>\n",
       "      <td>81.599998</td>\n",
       "      <td>80.680000</td>\n",
       "      <td>81.400002</td>\n",
       "      <td>81.400002</td>\n",
       "      <td>3.955008e+08</td>\n",
       "    </tr>\n",
       "  </tbody>\n",
       "</table>\n",
       "</div>"
      ],
      "text/plain": [
       "               Open          High           Low         Close     Adj Close  \\\n",
       "count  13145.000000  13145.000000  13145.000000  13145.000000  13145.000000   \n",
       "mean      13.913759     14.039233     13.789989     13.916968     11.440069   \n",
       "std       15.292915     15.411965     15.178640     15.298209     14.545202   \n",
       "min        0.005208      0.005208      0.004801      0.005208      0.002845   \n",
       "25%        0.540365      0.544271      0.537760      0.540365      0.322560   \n",
       "50%       10.500000     10.687500     10.239583     10.489583      6.738105   \n",
       "75%       19.836666     20.041668     19.670000     19.870001     14.260414   \n",
       "max       81.040001     81.599998     80.680000     81.400002     81.400002   \n",
       "\n",
       "             Volume  \n",
       "count  1.314500e+04  \n",
       "mean   2.248237e+07  \n",
       "std    1.843446e+07  \n",
       "min    0.000000e+00  \n",
       "25%    1.190220e+07  \n",
       "50%    1.880670e+07  \n",
       "75%    2.810160e+07  \n",
       "max    3.955008e+08  "
      ]
     },
     "execution_count": 3,
     "metadata": {},
     "output_type": "execute_result"
    }
   ],
   "source": [
    "data.describe()"
   ]
  },
  {
   "cell_type": "markdown",
   "metadata": {},
   "source": [
    "Будем оценивать 0.6 квантиль столбца volume"
   ]
  },
  {
   "cell_type": "code",
   "execution_count": 39,
   "metadata": {},
   "outputs": [
    {
     "data": {
      "text/plain": [
       "21667280.0"
      ]
     },
     "execution_count": 39,
     "metadata": {},
     "output_type": "execute_result"
    }
   ],
   "source": [
    "volume = np.array(data['Volume'])\n",
    "np.quantile(volume, 0.6)"
   ]
  },
  {
   "cell_type": "code",
   "execution_count": 12,
   "metadata": {},
   "outputs": [
    {
     "data": {
      "text/plain": [
       "<Axes: xlabel='Volume', ylabel='Density'>"
      ]
     },
     "execution_count": 12,
     "metadata": {},
     "output_type": "execute_result"
    },
    {
     "data": {
      "image/png": "[encoded data removed]",
      "text/plain": [
       "<Figure size 640x480 with 1 Axes>"
      ]
     },
     "metadata": {},
     "output_type": "display_data"
    }
   ],
   "source": [
    "fig, ax = plt.subplots()\n",
    "\n",
    "sns.histplot(volume[volume <= np.quantile(volume, 0.99)], stat='density')"
   ]
  },
  {
   "cell_type": "markdown",
   "metadata": {},
   "source": [
    "Хотим построить доверительный для нашей точечной оценки"
   ]
  },
  {
   "cell_type": "markdown",
   "metadata": {},
   "source": [
    "Для начала решим более простую задачу: пусть мы знаем истинное распределение, построим доверительный интервал в таких условиях. Для этого нагенерируем выборку из этого распределения кучу раз, посчитаем выборочную квантиль $\\widehat{\\theta}$ и запомним $\\Delta = \\widehat{\\theta} - \\theta$, где $\\theta$ - истинная квантиль"
   ]
  },
  {
   "cell_type": "markdown",
   "metadata": {},
   "source": [
    "Теперь посчитаем выборочные $\\alpha/2, \\text{ }1 - \\alpha/2$ квантили в массиве из дельт, тогда доверительным интервалом для  $\\theta$ будет $CI = (\\widehat{\\theta} - \\Delta_{[1 - \\alpha/2]}, \\widehat{\\theta} - \\Delta_{[\\alpha/2]})$"
   ]
  },
  {
   "cell_type": "code",
   "execution_count": 24,
   "metadata": {},
   "outputs": [
    {
     "name": "stderr",
     "output_type": "stream",
     "text": [
      "                                                      \r"
     ]
    }
   ],
   "source": [
    "N_exps = 10_000\n",
    "dist = norm()\n",
    "sample_len = 100\n",
    "\n",
    "x = dist.rvs(100)\n",
    "theta = dist.ppf(0.6)\n",
    "theta_estim = np.quantile(x, 0.6)\n",
    "\n",
    "theta_estim_array = np.empty(N_exps)\n",
    "\n",
    "for i in tqdm(range(N_exps), leave=False):\n",
    "    sample = dist.rvs(sample_len)\n",
    "    theta_estim_array[i] = np.quantile(sample, 0.6)"
   ]
  },
  {
   "cell_type": "code",
   "execution_count": 25,
   "metadata": {},
   "outputs": [
    {
     "data": {
      "text/plain": [
       "<Axes: ylabel='Density'>"
      ]
     },
     "execution_count": 25,
     "metadata": {},
     "output_type": "execute_result"
    },
    {
     "data": {
      "image/png": "[encoded data removed]",
      "text/plain": [
       "<Figure size 640x480 with 1 Axes>"
      ]
     },
     "metadata": {},
     "output_type": "display_data"
    }
   ],
   "source": [
    "delta = theta_estim_array - theta\n",
    "fig, ax = plt.subplots()\n",
    "sns.histplot(delta, ax=ax, kde=True, stat='density')"
   ]
  },
  {
   "cell_type": "code",
   "execution_count": 26,
   "metadata": {},
   "outputs": [
    {
     "name": "stdout",
     "output_type": "stream",
     "text": [
      "Истинное theta: 0.25\n",
      "Полученный CI: (0.04, 0.53)\n"
     ]
    }
   ],
   "source": [
    "alpha = 0.05\n",
    "left_delta, right_delta = np.quantile(delta, [alpha/2, 1-alpha/2])\n",
    "\n",
    "left_bound, right_bound = theta_estim - right_delta, theta_estim - left_delta\n",
    "print(f\"Истинное theta: {round(theta, 2)}\")\n",
    "print(f\"Полученный CI: ({round(left_bound, 2)}, {round(right_bound, 2)})\")"
   ]
  },
  {
   "cell_type": "markdown",
   "metadata": {},
   "source": [
    "Всё хорошо, истинное значение попало в доверительный интерал, но задачу мы не решили, для выборки из начала мы не знаем истинного распределения. Идея в том чтобы заменить истинную функцию распределения на эмпирическую"
   ]
  },
  {
   "cell_type": "markdown",
   "metadata": {},
   "source": [
    "Тогда мы считаем не $\\Delta$ для истинного распределения, а $\\Delta^*$ - та же статистика, только для св с эмпирической функцией распределения. Теперь мы делаем главное предположение метода: $\\Delta \\approx \\Delta^*$"
   ]
  },
  {
   "cell_type": "markdown",
   "metadata": {},
   "source": [
    "На бесконечности это, очевидно, верно, но на конечном числе такие вещи надо проверять методом Монте-Карло. В любом случае, добьём метод - при таком предположении доверительный интервал для статистики $\\theta$ уровня значимости $\\alpha$ равен $CI = (\\widehat{\\theta} - \\Delta^*_{[1 - \\alpha/2]}, \\widehat{\\theta} - \\Delta^*_{[\\alpha/2]})$"
   ]
  },
  {
   "cell_type": "markdown",
   "metadata": {},
   "source": [
    "Можно не считать $\\Delta^*$, а просто воспользоваться очевидной формулой $CI = (2\\widehat{\\theta} - \\theta^*_{[1 - \\alpha/2]}, 2\\widehat{\\theta} - \\theta^*_{[\\alpha/2]})$"
   ]
  },
  {
   "cell_type": "markdown",
   "metadata": {},
   "source": [
    "Итак, воспользуемся методом для искусственного примера с нормальным распределением"
   ]
  },
  {
   "cell_type": "code",
   "execution_count": 27,
   "metadata": {},
   "outputs": [
    {
     "name": "stderr",
     "output_type": "stream",
     "text": [
      "                                                      \r"
     ]
    }
   ],
   "source": [
    "theta_estim = np.quantile(x, 0.6)\n",
    "\n",
    "theta_estim_array = np.empty(N_exps)\n",
    "\n",
    "for i in tqdm(range(N_exps), leave=False):\n",
    "    sample = np.random.choice(x, replace=True, size=sample_len)\n",
    "    theta_estim_array[i] = np.quantile(sample, 0.6)"
   ]
  },
  {
   "cell_type": "code",
   "execution_count": 28,
   "metadata": {},
   "outputs": [
    {
     "name": "stdout",
     "output_type": "stream",
     "text": [
      "Истинное theta: 0.25\n",
      "Полученный CI: (0.04, 0.47)\n"
     ]
    }
   ],
   "source": [
    "left_theta, right_theta = np.quantile(theta_estim_array, [alpha/2, 1-alpha/2])\n",
    "\n",
    "left_bound = 2 * theta_estim - right_theta\n",
    "right_bound = 2 * theta_estim - left_theta\n",
    "\n",
    "print(f\"Истинное theta: {round(theta, 2)}\")\n",
    "print(f\"Полученный CI: ({round(left_bound, 2)}, {round(right_bound, 2)})\")"
   ]
  },
  {
   "cell_type": "markdown",
   "metadata": {},
   "source": [
    "Класс, всё работает"
   ]
  },
  {
   "cell_type": "markdown",
   "metadata": {},
   "source": [
    "Тогда решим задачу для исходного набора данных"
   ]
  },
  {
   "cell_type": "code",
   "execution_count": 124,
   "metadata": {},
   "outputs": [],
   "source": [
    "def gen_estim_theta_sample(sample_size, gen_sample_func, theta_func, N_expr=10_000):\n",
    "    theta_estim_array = []\n",
    "    for _ in tqdm(range(N_expr), leave=False):\n",
    "        sample = gen_sample_func(sample_size)\n",
    "        theta_estim_array.append(theta_func(sample))\n",
    "\n",
    "    return theta_estim_array"
   ]
  },
  {
   "cell_type": "code",
   "execution_count": 125,
   "metadata": {},
   "outputs": [],
   "source": [
    "def get_bootstrap_CI(sample, theta_func, N_expr=10000, alpha=0.05):\n",
    "    theta_estim = theta_func(sample)\n",
    "    gen_sample_func = lambda N: np.random.choice(sample, replace=True, size=N)\n",
    "\n",
    "    theta_estim_array = gen_estim_theta_sample(len(sample), \\\n",
    "                                                gen_sample_func, theta_func, N_expr=N_expr)\n",
    "\n",
    "    left_theta, right_theta = np.quantile(theta_estim_array, [alpha/2, 1-alpha/2])\n",
    "\n",
    "    left_bound = 2 * theta_estim - right_theta\n",
    "    right_bound = 2 * theta_estim - left_theta\n",
    "\n",
    "    return left_bound, right_bound"
   ]
  },
  {
   "cell_type": "code",
   "execution_count": 126,
   "metadata": {},
   "outputs": [
    {
     "name": "stderr",
     "output_type": "stream",
     "text": [
      "                                                      "
     ]
    },
    {
     "name": "stdout",
     "output_type": "stream",
     "text": [
      "Эмпирическая квантиль 21667280.0\n",
      "Полученный CI: (21418960.0, 21957280.0)\n"
     ]
    },
    {
     "name": "stderr",
     "output_type": "stream",
     "text": [
      "\r"
     ]
    }
   ],
   "source": [
    "left_bound, right_bound = get_bootstrap_CI(volume, lambda sample: np.quantile(sample, 0.6))\n",
    "\n",
    "print(f\"Эмпирическая квантиль {round(np.quantile(volume, 0.6), 2)}\")\n",
    "print(f\"Полученный CI: ({round(left_bound, 2)}, {round(right_bound, 2)})\")"
   ]
  },
  {
   "cell_type": "code",
   "execution_count": 127,
   "metadata": {},
   "outputs": [
    {
     "name": "stderr",
     "output_type": "stream",
     "text": [
      "                                                     "
     ]
    },
    {
     "name": "stdout",
     "output_type": "stream",
     "text": [
      "775 ms ± 13.8 ms per loop (mean ± std. dev. of 7 runs, 1 loop each)\n"
     ]
    },
    {
     "name": "stderr",
     "output_type": "stream",
     "text": [
      "\r"
     ]
    }
   ],
   "source": [
    "theta_func = lambda sample: np.quantile(sample, 0.6)\n",
    "%timeit get_bootstrap_CI(volume, theta_func, N_expr=2000)"
   ]
  },
  {
   "cell_type": "code",
   "execution_count": 128,
   "metadata": {},
   "outputs": [
    {
     "name": "stderr",
     "output_type": "stream",
     "text": [
      "                                                     "
     ]
    },
    {
     "name": "stdout",
     "output_type": "stream",
     "text": [
      "773 ms ± 16.2 ms per loop (mean ± std. dev. of 7 runs, 1 loop each)\n"
     ]
    },
    {
     "name": "stderr",
     "output_type": "stream",
     "text": [
      "\r"
     ]
    }
   ],
   "source": [
    "theta_func = lambda sample: np.quantile(sample, 0.6)\n",
    "sample = norm().rvs(100)\n",
    "%timeit get_bootstrap_CI(volume, theta_func, N_expr=2000)"
   ]
  },
  {
   "cell_type": "markdown",
   "metadata": {},
   "source": [
    "Можно генерировать сразу несколько выборок для ускорения работы"
   ]
  },
  {
   "cell_type": "code",
   "execution_count": 129,
   "metadata": {},
   "outputs": [],
   "source": [
    "def get_bootstrap_CI(sample, theta_func, N_expr=10000, alpha=0.05):\n",
    "    batch_size = N_expr // 20\n",
    "\n",
    "    theta_estim = theta_func(np.expand_dims(sample, axis=0)).ravel()[0]\n",
    "\n",
    "    theta_estim_array = []    \n",
    "    for i in tqdm(range(0, N_expr, batch_size), leave=False):\n",
    "        bootstrap_sample = np.random.choice(sample, replace=True, size=(batch_size, len(sample)))\n",
    "        theta_estim_array = np.concatenate([theta_estim_array, theta_func(bootstrap_sample).ravel()])\n",
    "\n",
    "    left_theta, right_theta = np.quantile(theta_estim_array, [alpha/2, 1-alpha/2])\n",
    "\n",
    "    left_bound = 2 * theta_estim - right_theta\n",
    "    right_bound = 2 * theta_estim - left_theta\n",
    "\n",
    "    return left_bound, right_bound"
   ]
  },
  {
   "cell_type": "code",
   "execution_count": 130,
   "metadata": {},
   "outputs": [
    {
     "name": "stderr",
     "output_type": "stream",
     "text": [
      "                                               "
     ]
    },
    {
     "name": "stdout",
     "output_type": "stream",
     "text": [
      "Эмпирическая квантиль 21667280.0\n",
      "Полученный CI: (21418936.0, 21951175.0)\n"
     ]
    },
    {
     "name": "stderr",
     "output_type": "stream",
     "text": [
      "\r"
     ]
    }
   ],
   "source": [
    "left_bound, right_bound = get_bootstrap_CI(volume, lambda sample: np.quantile(sample, 0.6, axis=1))\n",
    "\n",
    "print(f\"Эмпирическая квантиль {round(np.quantile(volume, 0.6), 2)}\")\n",
    "print(f\"Полученный CI: ({round(left_bound, 2)}, {round(right_bound, 2)})\")\n"
   ]
  },
  {
   "cell_type": "code",
   "execution_count": 131,
   "metadata": {},
   "outputs": [
    {
     "name": "stderr",
     "output_type": "stream",
     "text": [
      "                                               "
     ]
    },
    {
     "name": "stdout",
     "output_type": "stream",
     "text": [
      "795 ms ± 89.1 ms per loop (mean ± std. dev. of 7 runs, 1 loop each)\n"
     ]
    },
    {
     "name": "stderr",
     "output_type": "stream",
     "text": [
      "\r"
     ]
    }
   ],
   "source": [
    "theta_func = lambda sample: np.quantile(sample, 0.6, axis=1)\n",
    "%timeit get_bootstrap_CI(volume, theta_func, N_expr=2000)"
   ]
  },
  {
   "cell_type": "code",
   "execution_count": 132,
   "metadata": {},
   "outputs": [
    {
     "name": "stderr",
     "output_type": "stream",
     "text": [
      "                                               "
     ]
    },
    {
     "name": "stdout",
     "output_type": "stream",
     "text": [
      "895 ms ± 84.4 ms per loop (mean ± std. dev. of 7 runs, 1 loop each)\n"
     ]
    },
    {
     "name": "stderr",
     "output_type": "stream",
     "text": [
      "\r"
     ]
    }
   ],
   "source": [
    "theta_func = lambda sample: np.quantile(sample, 0.6)\n",
    "sample = norm().rvs(100)\n",
    "%timeit get_bootstrap_CI(volume, theta_func, N_expr=2000)"
   ]
  },
  {
   "cell_type": "code",
   "execution_count": 142,
   "metadata": {},
   "outputs": [
    {
     "name": "stderr",
     "output_type": "stream",
     "text": [
      "100%|██████████| 1000/1000 [04:27<00:00,  3.73it/s]"
     ]
    },
    {
     "name": "stdout",
     "output_type": "stream",
     "text": [
      "FPR: 0.062\n",
      "CI=(0.04866418011998063, 0.07868806031336564)\n"
     ]
    },
    {
     "name": "stderr",
     "output_type": "stream",
     "text": [
      "\n"
     ]
    }
   ],
   "source": [
    "#выборка маленькая, поэтому критерий, судя по всему, имеет немного завышенный fpr\n",
    "\n",
    "positive = 0\n",
    "\n",
    "sample_size = 1000\n",
    "N_exps = 1000\n",
    "\n",
    "dist = norm()\n",
    "theta = dist.ppf(0.6)\n",
    "theta_func = lambda sample: np.quantile(sample, 0.6, axis=1) \n",
    "\n",
    "\n",
    "for i in tqdm(range(N_exps)):\n",
    "    sample = dist.rvs(sample_size)\n",
    "\n",
    "    left, right = get_bootstrap_CI(sample, theta_func)\n",
    "\n",
    "    positive += 1 - (left < theta < right)\n",
    "\n",
    "\n",
    "print(f\"FPR: {round(positive / N_exps, 4)}\")\n",
    "print(f\"CI={proportion_confint(count = positive, nobs = N_exps, alpha=0.05, method='wilson')}\")"
   ]
  },
  {
   "cell_type": "code",
   "execution_count": 141,
   "metadata": {},
   "outputs": [
    {
     "name": "stderr",
     "output_type": "stream",
     "text": [
      "100%|██████████| 1000/1000 [2:04:14<00:00,  7.45s/it]   "
     ]
    },
    {
     "name": "stdout",
     "output_type": "stream",
     "text": [
      "FPR: 0.045\n",
      "CI=(0.03379951228563171, 0.059682837936223455)\n"
     ]
    },
    {
     "name": "stderr",
     "output_type": "stream",
     "text": [
      "\n"
     ]
    }
   ],
   "source": [
    "# огромная выбокра, fpr как заявлено\n",
    "positive = 0\n",
    "\n",
    "sample_size = 20000\n",
    "N_exps = 1000\n",
    "\n",
    "dist = gamma(a=2, scale=3)\n",
    "theta = dist.ppf(0.6)\n",
    "theta_func = lambda sample: np.quantile(sample, 0.6, axis=1) \n",
    "\n",
    "\n",
    "for i in tqdm(range(N_exps)):\n",
    "    sample = dist.rvs(sample_size)\n",
    "\n",
    "    left, right = get_bootstrap_CI(sample, theta_func)\n",
    "\n",
    "    positive += 1 - (left < theta < right)\n",
    "\n",
    "\n",
    "print(f\"FPR: {round(positive / N_exps, 4)}\")\n",
    "print(f\"CI={proportion_confint(count = positive, nobs = N_exps, alpha=0.05, method='wilson')}\")"
   ]
  },
  {
   "cell_type": "markdown",
   "metadata": {},
   "source": [
    "Самое прекрасное, что логика выше работает абсолютно для любой статистики распределения: что бы мы не захотели посчитать - пока мы умеем оценивать эту характеристику через выборки, для неё можно построить доверительный интервал"
   ]
  },
  {
   "cell_type": "markdown",
   "metadata": {},
   "source": [
    "Надо помнить, что мы несколько раз использовали не точные значения тех или иных величин, а их оценки, поэтому бустрап работает если\n",
    "- размер выборки достаточно большой, чтобы эмпирическая фр хорошо приближала истинную\n",
    "- размер выборки в бустрапе, чтобы как можно точнее оценивать $\\Delta^*$"
   ]
  },
  {
   "cell_type": "markdown",
   "metadata": {},
   "source": [
    "Ещё один приятный момент: если мы хотим построить доверительный интервал для статистики, зависящей сразу от двух выборок (теста и контроля), бустрап позволяет это делать, просто нужно генерировать сразу две выборки - одну из тестового набора данных, другую из контрольного "
   ]
  },
  {
   "cell_type": "markdown",
   "metadata": {},
   "source": [
    "Есть несколько видов доверительных интервалов в бутстрапе   \n",
    "1) Центральный: $CI = (2\\widehat{\\theta} - \\theta^*_{[1 - \\alpha/2]}, 2\\widehat{\\theta} - \\theta^*_{[\\alpha/2]})$\n",
    "2) Нормальный: $CI = (\\widehat{\\theta} \\pm z_{1-\\alpha/2}\\cdot \\sqrt{S^2_{\\theta^*}})$\n",
    "    - Если статистика $\\widehat{\\theta}$ распределена нормально (что на практике практически всегда так), то мы можем посчитать по выборке $\\theta^*$ стандартное отклонение $\\sqrt{S^2_{\\theta^*}}$. мы делаем предположение, что $\\sqrt{S^2_{\\theta^*}} \\approx \\sqrt{S^2_{\\widehat{\\theta}}}$ . Тогда центр распределения $\\theta$ будет лежать в данном дов. интервале.\n",
    "3) Процентильный: $CI = (\\theta^*_{[\\alpha/2]}, \\theta^*_{[1 - \\alpha/2]})$\n",
    "    - Теоретически он работает, если существует некоторая монотонная функция $F$, такая, что $\\hat U = F(\\hat\\theta(X_i))$ и $\\hat U \\sim \\mathcal{N}(\\varphi, c^2)$, где $\\varphi = F(\\theta)$. Где $X$ &mdash; выборка, $ U$ &mdash; одно наблюдение случайной величины $\\hat U$."
   ]
  },
  {
   "cell_type": "markdown",
   "metadata": {},
   "source": [
    "Не буду тестить на своём железе, просто повторю выводы из курса:  \n",
    "- на 5000 все дов интервалы получились корректными\n",
    "- центральный интервал сходится намного дольше, чем 2 других"
   ]
  },
  {
   "cell_type": "markdown",
   "metadata": {},
   "source": [
    "Так же, можно провести сравнение бутстрапа и T-testа и получить вывод о том, что T-test работает лучше  \n",
    "- бустрап не работает тогда, когде не работает T-test - FPR высокий\n",
    "- когда бутстрап работает - T-test тоже работает\n",
    "- мощность бутстрапа не выше, чем у T-testa"
   ]
  },
  {
   "cell_type": "markdown",
   "metadata": {},
   "source": []
  },
  {
   "cell_type": "markdown",
   "metadata": {},
   "source": []
  }
 ],
 "metadata": {
  "kernelspec": {
   "display_name": "Python 3",
   "language": "python",
   "name": "python3"
  },
  "language_info": {
   "codemirror_mode": {
    "name": "ipython",
    "version": 3
   },
   "file_extension": ".py",
   "mimetype": "text/x-python",
   "name": "python",
   "nbconvert_exporter": "python",
   "pygments_lexer": "ipython3",
   "version": "3.12.0"
  }
 },
 "nbformat": 4,
 "nbformat_minor": 2
}
